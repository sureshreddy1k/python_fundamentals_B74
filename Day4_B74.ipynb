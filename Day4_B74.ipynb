{
 "cells": [
  {
   "cell_type": "code",
   "execution_count": null,
   "id": "78a51ba7",
   "metadata": {},
   "outputs": [],
   "source": [
    "Introduction to list  datatype:"
   ]
  },
  {
   "cell_type": "code",
   "execution_count": null,
   "id": "4edc45e5",
   "metadata": {},
   "outputs": [],
   "source": [
    "Defination: A list is a collection of items declared in a particular order.\n",
    "\n",
    "classification: It is classified as an mutable datatype.\n",
    "    \n",
    "how to declare the list datatype ......?  ========>[](square brackets)    "
   ]
  },
  {
   "cell_type": "code",
   "execution_count": null,
   "id": "ec795252",
   "metadata": {},
   "outputs": [],
   "source": []
  },
  {
   "cell_type": "code",
   "execution_count": 3,
   "id": "b142eef1",
   "metadata": {},
   "outputs": [],
   "source": [
    "students = ['ravi','divya','sadiya','praveen','ahmed','suresh']"
   ]
  },
  {
   "cell_type": "code",
   "execution_count": 4,
   "id": "90b02e43",
   "metadata": {},
   "outputs": [
    {
     "name": "stdout",
     "output_type": "stream",
     "text": [
      "['ravi', 'divya', 'sadiya', 'praveen', 'ahmed', 'suresh']\n"
     ]
    }
   ],
   "source": [
    "print(students)"
   ]
  },
  {
   "cell_type": "code",
   "execution_count": 5,
   "id": "5d29de00",
   "metadata": {},
   "outputs": [
    {
     "data": {
      "text/plain": [
       "list"
      ]
     },
     "execution_count": 5,
     "metadata": {},
     "output_type": "execute_result"
    }
   ],
   "source": [
    "type(students)"
   ]
  },
  {
   "cell_type": "code",
   "execution_count": null,
   "id": "aa7d0ab5",
   "metadata": {},
   "outputs": [],
   "source": [
    "Introduction to indexing: 0,1,2,3,4,5.........."
   ]
  },
  {
   "cell_type": "code",
   "execution_count": null,
   "id": "52df631c",
   "metadata": {},
   "outputs": [],
   "source": [
    "# req: I want to get the divyas name in the output ......................?"
   ]
  },
  {
   "cell_type": "code",
   "execution_count": 6,
   "id": "c995c8a2",
   "metadata": {},
   "outputs": [
    {
     "name": "stdout",
     "output_type": "stream",
     "text": [
      "divya\n"
     ]
    }
   ],
   "source": [
    "print(students[1])"
   ]
  },
  {
   "cell_type": "code",
   "execution_count": null,
   "id": "f9aca14b",
   "metadata": {},
   "outputs": [],
   "source": [
    "# ahmed name ................?"
   ]
  },
  {
   "cell_type": "code",
   "execution_count": 7,
   "id": "9ad6a7a0",
   "metadata": {},
   "outputs": [
    {
     "name": "stdout",
     "output_type": "stream",
     "text": [
      "ahmed\n"
     ]
    }
   ],
   "source": [
    "print(students[4])"
   ]
  },
  {
   "cell_type": "code",
   "execution_count": 8,
   "id": "52faf64b",
   "metadata": {},
   "outputs": [
    {
     "name": "stdout",
     "output_type": "stream",
     "text": [
      "Ahmed\n"
     ]
    }
   ],
   "source": [
    "print(students[4].title())              #to correct the format"
   ]
  },
  {
   "cell_type": "code",
   "execution_count": 9,
   "id": "7f5cecd7",
   "metadata": {},
   "outputs": [
    {
     "name": "stdout",
     "output_type": "stream",
     "text": [
      "['ravi', 'divya', 'sadiya', 'praveen', 'ahmed', 'suresh']\n"
     ]
    }
   ],
   "source": [
    "print(students)"
   ]
  },
  {
   "cell_type": "code",
   "execution_count": null,
   "id": "cb6103de",
   "metadata": {},
   "outputs": [],
   "source": [
    "1. how to add new students(elements) to the list.......?\n",
    "2. how to modify the students in the list..............?\n",
    "3. how to delete the students in the list ................?"
   ]
  },
  {
   "cell_type": "code",
   "execution_count": null,
   "id": "684e431f",
   "metadata": {},
   "outputs": [],
   "source": []
  },
  {
   "cell_type": "code",
   "execution_count": null,
   "id": "5c727bd1",
   "metadata": {},
   "outputs": [],
   "source": [
    "# I want to anand to the above list ......?"
   ]
  },
  {
   "cell_type": "code",
   "execution_count": 11,
   "id": "5e7c022f",
   "metadata": {},
   "outputs": [],
   "source": [
    "students.append('anand')"
   ]
  },
  {
   "cell_type": "code",
   "execution_count": 12,
   "id": "7d6b73d5",
   "metadata": {},
   "outputs": [
    {
     "name": "stdout",
     "output_type": "stream",
     "text": [
      "['ravi', 'divya', 'sadiya', 'praveen', 'ahmed', 'suresh', 'anand']\n"
     ]
    }
   ],
   "source": [
    "print(students)"
   ]
  },
  {
   "cell_type": "code",
   "execution_count": null,
   "id": "62d5d685",
   "metadata": {},
   "outputs": [],
   "source": [
    "# req: swathi ..."
   ]
  },
  {
   "cell_type": "code",
   "execution_count": 13,
   "id": "2f5a69cc",
   "metadata": {},
   "outputs": [],
   "source": [
    "students.append('swathi')"
   ]
  },
  {
   "cell_type": "code",
   "execution_count": 14,
   "id": "9d573728",
   "metadata": {},
   "outputs": [
    {
     "name": "stdout",
     "output_type": "stream",
     "text": [
      "['ravi', 'divya', 'sadiya', 'praveen', 'ahmed', 'suresh', 'anand', 'swathi']\n"
     ]
    }
   ],
   "source": [
    "print(students)"
   ]
  },
  {
   "cell_type": "code",
   "execution_count": null,
   "id": "c43c5603",
   "metadata": {},
   "outputs": [],
   "source": [
    "# req: deepa -----> 2nd index"
   ]
  },
  {
   "cell_type": "code",
   "execution_count": 15,
   "id": "1a806299",
   "metadata": {},
   "outputs": [],
   "source": [
    "students.insert(2,'deepa')"
   ]
  },
  {
   "cell_type": "code",
   "execution_count": 16,
   "id": "2a820378",
   "metadata": {},
   "outputs": [
    {
     "name": "stdout",
     "output_type": "stream",
     "text": [
      "Deepa\n"
     ]
    }
   ],
   "source": [
    "print(students[2].title())"
   ]
  },
  {
   "cell_type": "code",
   "execution_count": null,
   "id": "c006c7be",
   "metadata": {},
   "outputs": [],
   "source": [
    "Interview question:can you please explain what is the difference between append and insert method in the list?"
   ]
  },
  {
   "cell_type": "code",
   "execution_count": 17,
   "id": "690c3e25",
   "metadata": {},
   "outputs": [
    {
     "name": "stdout",
     "output_type": "stream",
     "text": [
      "['ravi', 'divya', 'deepa', 'sadiya', 'praveen', 'ahmed', 'suresh', 'anand', 'swathi']\n"
     ]
    }
   ],
   "source": [
    "print(students)"
   ]
  },
  {
   "cell_type": "code",
   "execution_count": null,
   "id": "a93a53bb",
   "metadata": {},
   "outputs": [],
   "source": [
    "# req: I want to modify ravi name to raju ......?"
   ]
  },
  {
   "cell_type": "code",
   "execution_count": 18,
   "id": "7533c33e",
   "metadata": {},
   "outputs": [],
   "source": [
    "students[0] = 'raju'"
   ]
  },
  {
   "cell_type": "code",
   "execution_count": 19,
   "id": "4df58768",
   "metadata": {},
   "outputs": [
    {
     "name": "stdout",
     "output_type": "stream",
     "text": [
      "['raju', 'divya', 'deepa', 'sadiya', 'praveen', 'ahmed', 'suresh', 'anand', 'swathi']\n"
     ]
    }
   ],
   "source": [
    "print(students)"
   ]
  },
  {
   "cell_type": "code",
   "execution_count": 20,
   "id": "e1ef1acd",
   "metadata": {},
   "outputs": [],
   "source": [
    "del students[4]    #permenant deleting:"
   ]
  },
  {
   "cell_type": "code",
   "execution_count": 21,
   "id": "6709b382",
   "metadata": {},
   "outputs": [
    {
     "name": "stdout",
     "output_type": "stream",
     "text": [
      "['raju', 'divya', 'deepa', 'sadiya', 'ahmed', 'suresh', 'anand', 'swathi']\n"
     ]
    }
   ],
   "source": [
    "print(students)"
   ]
  },
  {
   "cell_type": "code",
   "execution_count": null,
   "id": "218f746c",
   "metadata": {},
   "outputs": [],
   "source": [
    "pop ---->by default, it will be deleting the last element from the list and will be saving in the variable assigned."
   ]
  },
  {
   "cell_type": "code",
   "execution_count": 22,
   "id": "2a2fc549",
   "metadata": {},
   "outputs": [
    {
     "name": "stdout",
     "output_type": "stream",
     "text": [
      "['raju', 'divya', 'deepa', 'sadiya', 'ahmed', 'suresh', 'anand', 'swathi']\n"
     ]
    }
   ],
   "source": [
    "print(students)"
   ]
  },
  {
   "cell_type": "code",
   "execution_count": 23,
   "id": "9bdc3fa1",
   "metadata": {},
   "outputs": [],
   "source": [
    "x = students.pop()"
   ]
  },
  {
   "cell_type": "code",
   "execution_count": 24,
   "id": "eac9dc18",
   "metadata": {},
   "outputs": [
    {
     "name": "stdout",
     "output_type": "stream",
     "text": [
      "['raju', 'divya', 'deepa', 'sadiya', 'ahmed', 'suresh', 'anand']\n"
     ]
    }
   ],
   "source": [
    "print(students)"
   ]
  },
  {
   "cell_type": "code",
   "execution_count": 25,
   "id": "2224451f",
   "metadata": {},
   "outputs": [
    {
     "name": "stdout",
     "output_type": "stream",
     "text": [
      "swathi\n"
     ]
    }
   ],
   "source": [
    "print(x)"
   ]
  },
  {
   "cell_type": "code",
   "execution_count": null,
   "id": "462132da",
   "metadata": {},
   "outputs": [],
   "source": [
    "interview question: what is the diff between delete and pop methods in the list datatype....?"
   ]
  },
  {
   "cell_type": "code",
   "execution_count": null,
   "id": "d2e7cf7b",
   "metadata": {},
   "outputs": [],
   "source": []
  },
  {
   "cell_type": "code",
   "execution_count": null,
   "id": "d3bed02a",
   "metadata": {},
   "outputs": [],
   "source": [
    "Introduction to negative indexing:  -1,-2,-3,-4,................"
   ]
  },
  {
   "cell_type": "code",
   "execution_count": 26,
   "id": "547b602b",
   "metadata": {},
   "outputs": [
    {
     "name": "stdout",
     "output_type": "stream",
     "text": [
      "['raju', 'divya', 'deepa', 'sadiya', 'ahmed', 'suresh', 'anand']\n"
     ]
    }
   ],
   "source": [
    "print(students)"
   ]
  },
  {
   "cell_type": "code",
   "execution_count": 27,
   "id": "4037ba99",
   "metadata": {},
   "outputs": [
    {
     "name": "stdout",
     "output_type": "stream",
     "text": [
      "anand\n"
     ]
    }
   ],
   "source": [
    "print(students[-1])"
   ]
  },
  {
   "cell_type": "code",
   "execution_count": null,
   "id": "cbe04107",
   "metadata": {},
   "outputs": [],
   "source": []
  },
  {
   "cell_type": "code",
   "execution_count": 28,
   "id": "6b5f6c72",
   "metadata": {},
   "outputs": [
    {
     "name": "stdout",
     "output_type": "stream",
     "text": [
      "The Zen of Python, by Tim Peters\n",
      "\n",
      "Beautiful is better than ugly.\n",
      "Explicit is better than implicit.\n",
      "Simple is better than complex.\n",
      "Complex is better than complicated.\n",
      "Flat is better than nested.\n",
      "Sparse is better than dense.\n",
      "Readability counts.\n",
      "Special cases aren't special enough to break the rules.\n",
      "Although practicality beats purity.\n",
      "Errors should never pass silently.\n",
      "Unless explicitly silenced.\n",
      "In the face of ambiguity, refuse the temptation to guess.\n",
      "There should be one-- and preferably only one --obvious way to do it.\n",
      "Although that way may not be obvious at first unless you're Dutch.\n",
      "Now is better than never.\n",
      "Although never is often better than *right* now.\n",
      "If the implementation is hard to explain, it's a bad idea.\n",
      "If the implementation is easy to explain, it may be a good idea.\n",
      "Namespaces are one honking great idea -- let's do more of those!\n"
     ]
    }
   ],
   "source": [
    "import this"
   ]
  },
  {
   "cell_type": "code",
   "execution_count": null,
   "id": "e1de7de1",
   "metadata": {},
   "outputs": [],
   "source": []
  }
 ],
 "metadata": {
  "kernelspec": {
   "display_name": "Python 3 (ipykernel)",
   "language": "python",
   "name": "python3"
  },
  "language_info": {
   "codemirror_mode": {
    "name": "ipython",
    "version": 3
   },
   "file_extension": ".py",
   "mimetype": "text/x-python",
   "name": "python",
   "nbconvert_exporter": "python",
   "pygments_lexer": "ipython3",
   "version": "3.9.13"
  }
 },
 "nbformat": 4,
 "nbformat_minor": 5
}
