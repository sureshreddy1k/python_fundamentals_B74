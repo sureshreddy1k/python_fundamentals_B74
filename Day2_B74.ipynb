{
 "cells": [
  {
   "cell_type": "code",
   "execution_count": null,
   "id": "e569eb3a",
   "metadata": {},
   "outputs": [],
   "source": [
    "Understanding the variables in python:"
   ]
  },
  {
   "cell_type": "code",
   "execution_count": 1,
   "id": "de5f072d",
   "metadata": {},
   "outputs": [],
   "source": [
    "x= 5"
   ]
  },
  {
   "cell_type": "code",
   "execution_count": 2,
   "id": "f577a853",
   "metadata": {},
   "outputs": [],
   "source": [
    "y= 2"
   ]
  },
  {
   "cell_type": "code",
   "execution_count": 3,
   "id": "9e5af599",
   "metadata": {},
   "outputs": [],
   "source": [
    "z= x+y"
   ]
  },
  {
   "cell_type": "code",
   "execution_count": 4,
   "id": "661e8ad7",
   "metadata": {},
   "outputs": [
    {
     "name": "stdout",
     "output_type": "stream",
     "text": [
      "7\n"
     ]
    }
   ],
   "source": [
    "print(z)"
   ]
  },
  {
   "cell_type": "code",
   "execution_count": null,
   "id": "94ce32dd",
   "metadata": {},
   "outputs": [],
   "source": [
    "Rules for declaring the variables in python:"
   ]
  },
  {
   "cell_type": "code",
   "execution_count": null,
   "id": "848a0e3b",
   "metadata": {},
   "outputs": [],
   "source": [
    "Rule1:No namespaces while declaring the variable in python."
   ]
  },
  {
   "cell_type": "code",
   "execution_count": 5,
   "id": "ba4b181c",
   "metadata": {},
   "outputs": [
    {
     "ename": "SyntaxError",
     "evalue": "invalid syntax (1374664344.py, line 1)",
     "output_type": "error",
     "traceback": [
      "\u001b[1;36m  File \u001b[1;32m\"C:\\Users\\admin\\AppData\\Local\\Temp\\ipykernel_11104\\1374664344.py\"\u001b[1;36m, line \u001b[1;32m1\u001b[0m\n\u001b[1;33m    first name= 'faiyaz'\u001b[0m\n\u001b[1;37m          ^\u001b[0m\n\u001b[1;31mSyntaxError\u001b[0m\u001b[1;31m:\u001b[0m invalid syntax\n"
     ]
    }
   ],
   "source": [
    "first name= 'faiyaz'"
   ]
  },
  {
   "cell_type": "code",
   "execution_count": 4,
   "id": "35aebd4f",
   "metadata": {},
   "outputs": [
    {
     "ename": "SyntaxError",
     "evalue": "invalid syntax (3852772612.py, line 1)",
     "output_type": "error",
     "traceback": [
      "\u001b[1;36m  File \u001b[1;32m\"C:\\Users\\admin\\AppData\\Local\\Temp\\ipykernel_11104\\3852772612.py\"\u001b[1;36m, line \u001b[1;32m1\u001b[0m\n\u001b[1;33m    print(first name)\u001b[0m\n\u001b[1;37m                ^\u001b[0m\n\u001b[1;31mSyntaxError\u001b[0m\u001b[1;31m:\u001b[0m invalid syntax\n"
     ]
    }
   ],
   "source": [
    "print(first name)"
   ]
  },
  {
   "cell_type": "code",
   "execution_count": 6,
   "id": "d7ce017f",
   "metadata": {},
   "outputs": [],
   "source": [
    "firstname= 'faiyaz'"
   ]
  },
  {
   "cell_type": "code",
   "execution_count": 7,
   "id": "438dfb5b",
   "metadata": {},
   "outputs": [
    {
     "name": "stdout",
     "output_type": "stream",
     "text": [
      "faiyaz\n"
     ]
    }
   ],
   "source": [
    "print(firstname)"
   ]
  },
  {
   "cell_type": "code",
   "execution_count": 8,
   "id": "bfee2871",
   "metadata": {},
   "outputs": [],
   "source": [
    "first_name= 'faiyaz'"
   ]
  },
  {
   "cell_type": "code",
   "execution_count": 9,
   "id": "f536e224",
   "metadata": {},
   "outputs": [
    {
     "name": "stdout",
     "output_type": "stream",
     "text": [
      "faiyaz\n"
     ]
    }
   ],
   "source": [
    "print(first_name)"
   ]
  },
  {
   "cell_type": "code",
   "execution_count": null,
   "id": "994f2474",
   "metadata": {},
   "outputs": [],
   "source": [
    "Rule2:A variable should not start with a number."
   ]
  },
  {
   "cell_type": "code",
   "execution_count": 11,
   "id": "8cfddc23",
   "metadata": {},
   "outputs": [
    {
     "ename": "SyntaxError",
     "evalue": "invalid syntax (67172174.py, line 1)",
     "output_type": "error",
     "traceback": [
      "\u001b[1;36m  File \u001b[1;32m\"C:\\Users\\admin\\AppData\\Local\\Temp\\ipykernel_11104\\67172174.py\"\u001b[1;36m, line \u001b[1;32m1\u001b[0m\n\u001b[1;33m    1name= 'rahul'\u001b[0m\n\u001b[1;37m     ^\u001b[0m\n\u001b[1;31mSyntaxError\u001b[0m\u001b[1;31m:\u001b[0m invalid syntax\n"
     ]
    }
   ],
   "source": [
    "1name= 'rahul'"
   ]
  },
  {
   "cell_type": "code",
   "execution_count": 12,
   "id": "69dc8999",
   "metadata": {},
   "outputs": [
    {
     "ename": "SyntaxError",
     "evalue": "invalid syntax (989602786.py, line 1)",
     "output_type": "error",
     "traceback": [
      "\u001b[1;36m  File \u001b[1;32m\"C:\\Users\\admin\\AppData\\Local\\Temp\\ipykernel_11104\\989602786.py\"\u001b[1;36m, line \u001b[1;32m1\u001b[0m\n\u001b[1;33m    print(1name)\u001b[0m\n\u001b[1;37m           ^\u001b[0m\n\u001b[1;31mSyntaxError\u001b[0m\u001b[1;31m:\u001b[0m invalid syntax\n"
     ]
    }
   ],
   "source": [
    "print(1name)"
   ]
  },
  {
   "cell_type": "code",
   "execution_count": 13,
   "id": "be890255",
   "metadata": {},
   "outputs": [],
   "source": [
    "name1= 'rahul'"
   ]
  },
  {
   "cell_type": "code",
   "execution_count": 14,
   "id": "f1b1457e",
   "metadata": {},
   "outputs": [
    {
     "name": "stdout",
     "output_type": "stream",
     "text": [
      "rahul\n"
     ]
    }
   ],
   "source": [
    "print(name1)"
   ]
  },
  {
   "cell_type": "code",
   "execution_count": null,
   "id": "d901b6ef",
   "metadata": {},
   "outputs": [],
   "source": [
    "Rule3: A variable name should not contain any special characters like @ # $ % ^ &"
   ]
  },
  {
   "cell_type": "code",
   "execution_count": 15,
   "id": "cbfe14b6",
   "metadata": {},
   "outputs": [
    {
     "ename": "NameError",
     "evalue": "name 'name' is not defined",
     "output_type": "error",
     "traceback": [
      "\u001b[1;31m---------------------------------------------------------------------------\u001b[0m",
      "\u001b[1;31mNameError\u001b[0m                                 Traceback (most recent call last)",
      "\u001b[1;32m~\\AppData\\Local\\Temp\\ipykernel_11104\\1228536958.py\u001b[0m in \u001b[0;36m<module>\u001b[1;34m\u001b[0m\n\u001b[1;32m----> 1\u001b[1;33m \u001b[0mname\u001b[0m\u001b[1;33m@=\u001b[0m \u001b[1;34m'divya'\u001b[0m\u001b[1;33m\u001b[0m\u001b[1;33m\u001b[0m\u001b[0m\n\u001b[0m",
      "\u001b[1;31mNameError\u001b[0m: name 'name' is not defined"
     ]
    }
   ],
   "source": [
    "name@= 'divya'"
   ]
  },
  {
   "cell_type": "code",
   "execution_count": 16,
   "id": "8adaecf8",
   "metadata": {},
   "outputs": [
    {
     "ename": "SyntaxError",
     "evalue": "invalid syntax (3535163447.py, line 1)",
     "output_type": "error",
     "traceback": [
      "\u001b[1;36m  File \u001b[1;32m\"C:\\Users\\admin\\AppData\\Local\\Temp\\ipykernel_11104\\3535163447.py\"\u001b[1;36m, line \u001b[1;32m1\u001b[0m\n\u001b[1;33m    print(name@)\u001b[0m\n\u001b[1;37m               ^\u001b[0m\n\u001b[1;31mSyntaxError\u001b[0m\u001b[1;31m:\u001b[0m invalid syntax\n"
     ]
    }
   ],
   "source": [
    "print(name@)"
   ]
  },
  {
   "cell_type": "code",
   "execution_count": null,
   "id": "c225908e",
   "metadata": {},
   "outputs": [],
   "source": [
    "Introduction to Datatypes in python:\n",
    "    1.strings  ====> str\n",
    "    2.lists   =====> list\n",
    "    3.numbers  =======> integers(int) and floats(decimals)\n",
    "    4.tuples   =======> tuple\n",
    "    5.Dictionaries   ======> dict\n",
    "  These are the five data types in python.  "
   ]
  },
  {
   "cell_type": "code",
   "execution_count": null,
   "id": "f58b6c96",
   "metadata": {},
   "outputs": [],
   "source": [
    "Classification of Datatypes:\n",
    "   *Broadly datatypes are classified into two types:\n",
    "     1)Mutable datatypes ----> which we can edit or alter --> flexiable in nature\n",
    "     2)Immutable datatypes  ----> which we can not edit or alter ----> fixed in nature   "
   ]
  },
  {
   "cell_type": "code",
   "execution_count": null,
   "id": "8bfcded0",
   "metadata": {},
   "outputs": [],
   "source": [
    "Introduction to string datatype:\n",
    "  Defination: A string is a series of characters declared in quotes.\n",
    "  classification: It is classified as an Immutable datatypes.  "
   ]
  },
  {
   "cell_type": "code",
   "execution_count": null,
   "id": "0a96aa10",
   "metadata": {},
   "outputs": [],
   "source": [
    "How to declare the string datatype:\n",
    "   Basically there are two methods to declare the string datatype as,\n",
    "2 approaches:\n",
    "    1)Single quote\n",
    "    2)Double quote"
   ]
  },
  {
   "cell_type": "code",
   "execution_count": 17,
   "id": "70ce2ba2",
   "metadata": {},
   "outputs": [],
   "source": [
    "name= 'john'      #single quote"
   ]
  },
  {
   "cell_type": "code",
   "execution_count": 18,
   "id": "406e99cd",
   "metadata": {},
   "outputs": [
    {
     "name": "stdout",
     "output_type": "stream",
     "text": [
      "john\n"
     ]
    }
   ],
   "source": [
    "print(name)"
   ]
  },
  {
   "cell_type": "code",
   "execution_count": 19,
   "id": "d13d8b8a",
   "metadata": {},
   "outputs": [],
   "source": [
    "name= \"peter\"           #double quote"
   ]
  },
  {
   "cell_type": "code",
   "execution_count": 20,
   "id": "98eb9206",
   "metadata": {},
   "outputs": [
    {
     "name": "stdout",
     "output_type": "stream",
     "text": [
      "peter\n"
     ]
    }
   ],
   "source": [
    "print(name)"
   ]
  },
  {
   "cell_type": "code",
   "execution_count": null,
   "id": "f0d61f8e",
   "metadata": {},
   "outputs": [],
   "source": [
    "Introduction to string methods:\n",
    "    methods are nothing but built in programs that are available in python to use directly."
   ]
  },
  {
   "cell_type": "code",
   "execution_count": 21,
   "id": "03782518",
   "metadata": {},
   "outputs": [
    {
     "data": {
      "text/plain": [
       "str"
      ]
     },
     "execution_count": 21,
     "metadata": {},
     "output_type": "execute_result"
    }
   ],
   "source": [
    "type(name)"
   ]
  },
  {
   "cell_type": "code",
   "execution_count": 23,
   "id": "c5d1a820",
   "metadata": {},
   "outputs": [
    {
     "ename": "NameError",
     "evalue": "name 'name2' is not defined",
     "output_type": "error",
     "traceback": [
      "\u001b[1;31m---------------------------------------------------------------------------\u001b[0m",
      "\u001b[1;31mNameError\u001b[0m                                 Traceback (most recent call last)",
      "\u001b[1;32m~\\AppData\\Local\\Temp\\ipykernel_11104\\63049500.py\u001b[0m in \u001b[0;36m<module>\u001b[1;34m\u001b[0m\n\u001b[1;32m----> 1\u001b[1;33m \u001b[0mtype\u001b[0m\u001b[1;33m(\u001b[0m\u001b[0mname2\u001b[0m\u001b[1;33m)\u001b[0m\u001b[1;33m\u001b[0m\u001b[1;33m\u001b[0m\u001b[0m\n\u001b[0m",
      "\u001b[1;31mNameError\u001b[0m: name 'name2' is not defined"
     ]
    }
   ],
   "source": [
    "type(name2)"
   ]
  },
  {
   "cell_type": "code",
   "execution_count": 24,
   "id": "e9182417",
   "metadata": {},
   "outputs": [],
   "source": [
    "fullname= 'bhanu chandra'"
   ]
  },
  {
   "cell_type": "code",
   "execution_count": 25,
   "id": "f1459edd",
   "metadata": {},
   "outputs": [
    {
     "name": "stdout",
     "output_type": "stream",
     "text": [
      "bhanu chandra\n"
     ]
    }
   ],
   "source": [
    "print(fullname)"
   ]
  },
  {
   "cell_type": "code",
   "execution_count": null,
   "id": "0c48a8fc",
   "metadata": {},
   "outputs": [],
   "source": [
    "#req: to get in the right format"
   ]
  },
  {
   "cell_type": "code",
   "execution_count": 26,
   "id": "1b44a801",
   "metadata": {},
   "outputs": [
    {
     "name": "stdout",
     "output_type": "stream",
     "text": [
      "Bhanu Chandra\n"
     ]
    }
   ],
   "source": [
    "print(fullname.title())"
   ]
  },
  {
   "cell_type": "code",
   "execution_count": null,
   "id": "3c14fdec",
   "metadata": {},
   "outputs": [],
   "source": [
    "#req: to get the name in capital"
   ]
  },
  {
   "cell_type": "code",
   "execution_count": 27,
   "id": "029611d7",
   "metadata": {},
   "outputs": [
    {
     "name": "stdout",
     "output_type": "stream",
     "text": [
      "BHANU CHANDRA\n"
     ]
    }
   ],
   "source": [
    "print(fullname.upper())"
   ]
  },
  {
   "cell_type": "code",
   "execution_count": null,
   "id": "e1ad31b1",
   "metadata": {},
   "outputs": [],
   "source": [
    "#req: to get the name in small letter"
   ]
  },
  {
   "cell_type": "code",
   "execution_count": 28,
   "id": "9e6b9671",
   "metadata": {},
   "outputs": [
    {
     "name": "stdout",
     "output_type": "stream",
     "text": [
      "bhanu chandra\n"
     ]
    }
   ],
   "source": [
    "print(fullname.lower())"
   ]
  },
  {
   "cell_type": "code",
   "execution_count": null,
   "id": "f3426e58",
   "metadata": {},
   "outputs": [],
   "source": []
  }
 ],
 "metadata": {
  "kernelspec": {
   "display_name": "Python 3 (ipykernel)",
   "language": "python",
   "name": "python3"
  },
  "language_info": {
   "codemirror_mode": {
    "name": "ipython",
    "version": 3
   },
   "file_extension": ".py",
   "mimetype": "text/x-python",
   "name": "python",
   "nbconvert_exporter": "python",
   "pygments_lexer": "ipython3",
   "version": "3.9.13"
  }
 },
 "nbformat": 4,
 "nbformat_minor": 5
}
